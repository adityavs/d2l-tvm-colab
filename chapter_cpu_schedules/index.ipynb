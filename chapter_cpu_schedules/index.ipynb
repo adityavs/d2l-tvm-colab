{
 "cells": [
  {
   "cell_type": "markdown",
   "metadata": {},
   "source": [
    "# Operator Optimizations on CPUs\n",
    "\n",
    ":label:`ch_cpu_schedules`"
   ]
  },
  {
   "cell_type": "markdown",
   "metadata": {},
   "source": [
    "```toc\n",
    ":maxdepth: 2\n",
    ":numbered:\n",
    "\n",
    "arch\n",
    "call_overhead\n",
    "vector_add\n",
    "matmul\n",
    "block_matmul\n",
    "conv\n",
    "packed_conv\n",
    "```\n"
   ]
  }
 ],
 "metadata": {
  "kernelspec": {
   "display_name": "Python 3",
   "name": "python3"
  },
  "language_info": {
   "name": "python"
  }
 },
 "nbformat": 4,
 "nbformat_minor": 2
}