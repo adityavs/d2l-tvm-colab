{
 "cells": [
  {
   "cell_type": "markdown",
   "metadata": {},
   "source": [
    "# Expressions for Operators\n",
    "\n",
    "In :numref:`ch_vector_add` you have seen how to build the vector addition\n",
    "expression in TVM. This chapter convers more concepts in TVM to construct\n",
    "expressions. Specifically, you'll learn about data types, shapes, indexing,\n",
    "reduction and control flow."
   ]
  },
  {
   "cell_type": "markdown",
   "metadata": {},
   "source": [
    "```toc\n",
    ":maxdepth: 2\n",
    "\n",
    "data_types\n",
    "shapes\n",
    "index_shape_expressions\n",
    "reductions\n",
    "if_then_else\n",
    "all_any\n",
    "```\n"
   ]
  }
 ],
 "metadata": {
  "kernelspec": {
   "display_name": "Python 3",
   "name": "python3"
  },
  "language_info": {
   "name": "python"
  }
 },
 "nbformat": 4,
 "nbformat_minor": 2
}