{
 "cells": [
  {
   "cell_type": "markdown",
   "metadata": {},
   "source": [
    "# Getting Started\n",
    "\n",
    "Let's start your journey! There's a lot to learn, but every journey starts\n",
    "somewhere. In this part, we'll discuss:\n",
    "\n",
    "- Installing required libaries so you can run (almost) every chapter by youself\n",
    "- Writing an operator that adds two vectors\n",
    "- Compiling a neural network model to run the inference, and saving the\n",
    "  compiled library"
   ]
  },
  {
   "cell_type": "markdown",
   "metadata": {},
   "source": [
    "```toc\n",
    ":maxdepth: 1\n",
    "\n",
    "install\n",
    "vector_add\n",
    "from_mxnet\n",
    "remote\n",
    "```\n"
   ]
  }
 ],
 "metadata": {
  "kernelspec": {
   "display_name": "Python 3",
   "name": "python3"
  },
  "language_info": {
   "name": "python"
  }
 },
 "nbformat": 4,
 "nbformat_minor": 2
}