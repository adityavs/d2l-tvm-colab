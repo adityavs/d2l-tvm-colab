{
 "cells": [
  {
   "cell_type": "markdown",
   "metadata": {},
   "source": [
    "Dive into Deep Learning Compiler\n",
    "================================\n",
    "\n",
    "**Working in progress**. Check our [roadmap](http://bit.ly/2NQ7gh3) for more details.\n",
    "\n",
    "This project is for readers who are interested in high-performance\n",
    "implementation of their programs for scientific computing, especially deep\n",
    "learning models, but may haven't got their hands dirty yet. We assume\n",
    "readers have a minimal background, they may only use NumPy before. It means that\n",
    "we will explain things from scratch and introduce relative background when needed. Experienced\n",
    "readers, however, should also find the contents useful.\n",
    "\n",
    "We roughly classify contents into three major parts. In the first part, we will\n",
    "introduce how to implement and optimize operators, such as matrix multiplication\n",
    "and convolution, for various hardware. This is the basic component for\n",
    "scientific computing. In the second part, we will show how to convert neural\n",
    "network models from various deep learning frameworks and further optimize them\n",
    "in the program level. The last part we will address how to deploy the optimized\n",
    "program into various environment such as mobile phones."
   ]
  },
  {
   "cell_type": "markdown",
   "metadata": {},
   "source": [
    "```toc\n",
    ":maxdepth: 2\n",
    ":numbered:\n",
    "\n",
    "chapter_getting_started/index\n",
    "chapter_expressions/index\n",
    "chapter_common_operators/index\n",
    "chapter_cpu_schedules/index\n",
    "chapter_gpu_schedules/index\n",
    "chapter_neural_networks/index\n",
    "chapter_deployment/index\n",
    "```\n"
   ]
  },
  {
   "cell_type": "markdown",
   "metadata": {},
   "source": [
    "```toc\n",
    ":maxdepth: 1\n",
    "\n",
    "chapter_references/zreferences\n",
    "```\n"
   ]
  }
 ],
 "metadata": {
  "kernelspec": {
   "display_name": "Python 3",
   "name": "python3"
  },
  "language_info": {
   "name": "python"
  }
 },
 "nbformat": 4,
 "nbformat_minor": 2
}